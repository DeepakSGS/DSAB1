{
 "cells": [
  {
   "cell_type": "markdown",
   "id": "1ad68a67",
   "metadata": {},
   "source": [
    "### Case Study on Testing of Hypothesis"
   ]
  },
  {
   "cell_type": "markdown",
   "id": "0e18a3c0",
   "metadata": {},
   "source": [
    "#### A company started to invest in digital marketing as a new way of their product promotions. For that they collected data and decided to carry out a study on it.  \n",
    "#### - The company wishes to clarify whether there is any increase in sales after stepping into digital marketing.  \n",
    "#### - The company needs to check whether there is any dependency between the features “Region” and “Manager”.  \n",
    "\n",
    "#### Help the company to carry out their study with the help of data provided."
   ]
  },
  {
   "cell_type": "code",
   "execution_count": 1,
   "id": "7cb784da",
   "metadata": {},
   "outputs": [],
   "source": [
    "#Importing libraries\n",
    "import pandas as pd\n",
    "import numpy as np\n",
    "import matplotlib.pyplot as plt\n",
    "import seaborn as sns\n",
    "import warnings\n",
    "warnings.filterwarnings('ignore')"
   ]
  },
  {
   "cell_type": "code",
   "execution_count": 2,
   "id": "4a363d17",
   "metadata": {},
   "outputs": [
    {
     "data": {
      "text/html": [
       "<div>\n",
       "<style scoped>\n",
       "    .dataframe tbody tr th:only-of-type {\n",
       "        vertical-align: middle;\n",
       "    }\n",
       "\n",
       "    .dataframe tbody tr th {\n",
       "        vertical-align: top;\n",
       "    }\n",
       "\n",
       "    .dataframe thead th {\n",
       "        text-align: right;\n",
       "    }\n",
       "</style>\n",
       "<table border=\"1\" class=\"dataframe\">\n",
       "  <thead>\n",
       "    <tr style=\"text-align: right;\">\n",
       "      <th></th>\n",
       "      <th>Month</th>\n",
       "      <th>Region</th>\n",
       "      <th>Manager</th>\n",
       "      <th>Sales_before_digital_add(in $)</th>\n",
       "      <th>Sales_After_digital_add(in $)</th>\n",
       "    </tr>\n",
       "  </thead>\n",
       "  <tbody>\n",
       "    <tr>\n",
       "      <th>0</th>\n",
       "      <td>Month-1</td>\n",
       "      <td>Region - A</td>\n",
       "      <td>Manager - A</td>\n",
       "      <td>132921</td>\n",
       "      <td>270390</td>\n",
       "    </tr>\n",
       "    <tr>\n",
       "      <th>1</th>\n",
       "      <td>Month-2</td>\n",
       "      <td>Region - A</td>\n",
       "      <td>Manager - C</td>\n",
       "      <td>149559</td>\n",
       "      <td>223334</td>\n",
       "    </tr>\n",
       "    <tr>\n",
       "      <th>2</th>\n",
       "      <td>Month-3</td>\n",
       "      <td>Region - B</td>\n",
       "      <td>Manager - A</td>\n",
       "      <td>146278</td>\n",
       "      <td>244243</td>\n",
       "    </tr>\n",
       "    <tr>\n",
       "      <th>3</th>\n",
       "      <td>Month-4</td>\n",
       "      <td>Region - B</td>\n",
       "      <td>Manager - B</td>\n",
       "      <td>152167</td>\n",
       "      <td>231808</td>\n",
       "    </tr>\n",
       "    <tr>\n",
       "      <th>4</th>\n",
       "      <td>Month-5</td>\n",
       "      <td>Region - C</td>\n",
       "      <td>Manager - B</td>\n",
       "      <td>159525</td>\n",
       "      <td>258402</td>\n",
       "    </tr>\n",
       "  </tbody>\n",
       "</table>\n",
       "</div>"
      ],
      "text/plain": [
       "     Month      Region      Manager  Sales_before_digital_add(in $)  \\\n",
       "0  Month-1  Region - A  Manager - A                          132921   \n",
       "1  Month-2  Region - A  Manager - C                          149559   \n",
       "2  Month-3  Region - B  Manager - A                          146278   \n",
       "3  Month-4  Region - B  Manager - B                          152167   \n",
       "4  Month-5  Region - C  Manager - B                          159525   \n",
       "\n",
       "   Sales_After_digital_add(in $)  \n",
       "0                         270390  \n",
       "1                         223334  \n",
       "2                         244243  \n",
       "3                         231808  \n",
       "4                         258402  "
      ]
     },
     "execution_count": 2,
     "metadata": {},
     "output_type": "execute_result"
    }
   ],
   "source": [
    "# Reading the sample dataset \"Sales_add.csv\" to pandas DataFrame\n",
    "data = pd.read_csv('Sales_add.csv')\n",
    "data.head()"
   ]
  },
  {
   "cell_type": "code",
   "execution_count": 3,
   "id": "30cd571c",
   "metadata": {},
   "outputs": [
    {
     "name": "stdout",
     "output_type": "stream",
     "text": [
      "<class 'pandas.core.frame.DataFrame'>\n",
      "RangeIndex: 22 entries, 0 to 21\n",
      "Data columns (total 5 columns):\n",
      " #   Column                          Non-Null Count  Dtype \n",
      "---  ------                          --------------  ----- \n",
      " 0   Month                           22 non-null     object\n",
      " 1   Region                          22 non-null     object\n",
      " 2   Manager                         22 non-null     object\n",
      " 3   Sales_before_digital_add(in $)  22 non-null     int64 \n",
      " 4   Sales_After_digital_add(in $)   22 non-null     int64 \n",
      "dtypes: int64(2), object(3)\n",
      "memory usage: 1008.0+ bytes\n"
     ]
    }
   ],
   "source": [
    "#Understanding datatypes, labels & features in the sample dataset\n",
    "data.info()"
   ]
  },
  {
   "cell_type": "markdown",
   "id": "8ea9495d",
   "metadata": {},
   "source": [
    "**Comments:  \n",
    "The dataset contains 22 rows and 5 columns.  \n",
    "Each row of the dataset contains information about Monthly sales attributes of the company.**"
   ]
  },
  {
   "cell_type": "code",
   "execution_count": 4,
   "id": "e57e0e49",
   "metadata": {},
   "outputs": [
    {
     "data": {
      "text/html": [
       "<div>\n",
       "<style scoped>\n",
       "    .dataframe tbody tr th:only-of-type {\n",
       "        vertical-align: middle;\n",
       "    }\n",
       "\n",
       "    .dataframe tbody tr th {\n",
       "        vertical-align: top;\n",
       "    }\n",
       "\n",
       "    .dataframe thead th {\n",
       "        text-align: right;\n",
       "    }\n",
       "</style>\n",
       "<table border=\"1\" class=\"dataframe\">\n",
       "  <thead>\n",
       "    <tr style=\"text-align: right;\">\n",
       "      <th></th>\n",
       "      <th>Sales_before_digital_add(in $)</th>\n",
       "      <th>Sales_After_digital_add(in $)</th>\n",
       "    </tr>\n",
       "  </thead>\n",
       "  <tbody>\n",
       "    <tr>\n",
       "      <th>count</th>\n",
       "      <td>22.000000</td>\n",
       "      <td>22.000000</td>\n",
       "    </tr>\n",
       "    <tr>\n",
       "      <th>mean</th>\n",
       "      <td>149239.954545</td>\n",
       "      <td>231123.727273</td>\n",
       "    </tr>\n",
       "    <tr>\n",
       "      <th>std</th>\n",
       "      <td>14844.042921</td>\n",
       "      <td>25556.777061</td>\n",
       "    </tr>\n",
       "    <tr>\n",
       "      <th>min</th>\n",
       "      <td>130263.000000</td>\n",
       "      <td>187305.000000</td>\n",
       "    </tr>\n",
       "    <tr>\n",
       "      <th>25%</th>\n",
       "      <td>138087.750000</td>\n",
       "      <td>214960.750000</td>\n",
       "    </tr>\n",
       "    <tr>\n",
       "      <th>50%</th>\n",
       "      <td>147444.000000</td>\n",
       "      <td>229986.500000</td>\n",
       "    </tr>\n",
       "    <tr>\n",
       "      <th>75%</th>\n",
       "      <td>157627.500000</td>\n",
       "      <td>250909.000000</td>\n",
       "    </tr>\n",
       "    <tr>\n",
       "      <th>max</th>\n",
       "      <td>178939.000000</td>\n",
       "      <td>276279.000000</td>\n",
       "    </tr>\n",
       "  </tbody>\n",
       "</table>\n",
       "</div>"
      ],
      "text/plain": [
       "       Sales_before_digital_add(in $)  Sales_After_digital_add(in $)\n",
       "count                       22.000000                      22.000000\n",
       "mean                    149239.954545                  231123.727273\n",
       "std                      14844.042921                   25556.777061\n",
       "min                     130263.000000                  187305.000000\n",
       "25%                     138087.750000                  214960.750000\n",
       "50%                     147444.000000                  229986.500000\n",
       "75%                     157627.500000                  250909.000000\n",
       "max                     178939.000000                  276279.000000"
      ]
     },
     "execution_count": 4,
     "metadata": {},
     "output_type": "execute_result"
    }
   ],
   "source": [
    "#Statistical summary of dataset\n",
    "data.describe()"
   ]
  },
  {
   "cell_type": "markdown",
   "id": "70be21a5",
   "metadata": {},
   "source": [
    "**Comments:  \n",
    "From statistical data we can see that there is significant increase in average Sales revenue after investing in digital marketing.**"
   ]
  },
  {
   "cell_type": "code",
   "execution_count": 5,
   "id": "f5ec1153",
   "metadata": {},
   "outputs": [
    {
     "data": {
      "image/png": "[encoded data removed]",
      "text/plain": [
       "<Figure size 720x360 with 2 Axes>"
      ]
     },
     "metadata": {
      "needs_background": "light"
     },
     "output_type": "display_data"
    }
   ],
   "source": [
    "#plotting histogram of Sales attributes\n",
    "data.hist(figsize=(10,5), bins=10);"
   ]
  },
  {
   "cell_type": "markdown",
   "id": "3cd4506d",
   "metadata": {},
   "source": [
    "### 1. The company wishes to clarify whether there is any increase in sales after stepping into digital marketing."
   ]
  },
  {
   "cell_type": "code",
   "execution_count": 6,
   "id": "e24a7a39",
   "metadata": {},
   "outputs": [],
   "source": [
    "#assigning the two sales sample attributes to two different variables\n",
    "data_salesbefore = data[\"Sales_before_digital_add(in $)\"]\n",
    "data_salesafter = data[\"Sales_After_digital_add(in $)\"]"
   ]
  },
  {
   "cell_type": "code",
   "execution_count": 7,
   "id": "cc0e6eb9",
   "metadata": {},
   "outputs": [
    {
     "data": {
      "text/plain": [
       "count        22.000000\n",
       "mean     149239.954545\n",
       "std       14844.042921\n",
       "min      130263.000000\n",
       "25%      138087.750000\n",
       "50%      147444.000000\n",
       "75%      157627.500000\n",
       "max      178939.000000\n",
       "Name: Sales_before_digital_add(in $), dtype: float64"
      ]
     },
     "execution_count": 7,
     "metadata": {},
     "output_type": "execute_result"
    }
   ],
   "source": [
    "data_salesbefore.describe()"
   ]
  },
  {
   "cell_type": "code",
   "execution_count": 8,
   "id": "2cb8ae8c",
   "metadata": {},
   "outputs": [
    {
     "data": {
      "text/plain": [
       "count        22.000000\n",
       "mean     231123.727273\n",
       "std       25556.777061\n",
       "min      187305.000000\n",
       "25%      214960.750000\n",
       "50%      229986.500000\n",
       "75%      250909.000000\n",
       "max      276279.000000\n",
       "Name: Sales_After_digital_add(in $), dtype: float64"
      ]
     },
     "execution_count": 8,
     "metadata": {},
     "output_type": "execute_result"
    }
   ],
   "source": [
    "data_salesafter.describe()"
   ]
  },
  {
   "cell_type": "code",
   "execution_count": 9,
   "id": "4f9f423e",
   "metadata": {},
   "outputs": [
    {
     "data": {
      "image/png": "[encoded data removed]",
      "text/plain": [
       "<Figure size 432x288 with 1 Axes>"
      ]
     },
     "metadata": {
      "needs_background": "light"
     },
     "output_type": "display_data"
    }
   ],
   "source": [
    "#line graph of Sales attributes\n",
    "data_x=data.iloc[:,[3,4]]\n",
    "plt.plot(data['Month'], data_x)\n",
    "plt.xticks(rotation = 90)\n",
    "plt.xlabel('Date')\n",
    "plt.ylabel('Sales & Marketing')\n",
    "plt.title(\"Digital Marketing effect on Monthly Sales\")\n",
    "plt.legend(data.iloc[:,[3,4]])\n",
    "plt.show()"
   ]
  },
  {
   "cell_type": "markdown",
   "id": "11e3321b",
   "metadata": {},
   "source": [
    "Comments:  \n",
    "Clearly there is a significant increase in sales after investing in digital marketing promotions."
   ]
  },
  {
   "cell_type": "code",
   "execution_count": 10,
   "id": "fef4c0b8",
   "metadata": {},
   "outputs": [
    {
     "data": {
      "image/png": "[encoded data removed]",
      "text/plain": [
       "<Figure size 432x288 with 1 Axes>"
      ]
     },
     "metadata": {
      "needs_background": "light"
     },
     "output_type": "display_data"
    }
   ],
   "source": [
    "#kde plot\n",
    "data_xy=data.iloc[:,[3,4]]\n",
    "data_xy.plot.kde(color = [\"blue\", \"orange\"])\n",
    "plt.title(\"Density Estimation of Sales Revenue\", fontsize = 15)\n",
    "plt.xlabel('Sales Revenue')\n",
    "plt.ylabel('Density')\n",
    "plt.show()"
   ]
  },
  {
   "cell_type": "code",
   "execution_count": 11,
   "id": "85981f2f",
   "metadata": {},
   "outputs": [],
   "source": [
    "#Defining a null hypothesis and an alternative hypothesis."
   ]
  },
  {
   "cell_type": "markdown",
   "id": "3f0c05c3",
   "metadata": {},
   "source": [
    "µ1 = Sales before Digital Marketing  \n",
    "µ2 = Sales after Digital Marketing\n",
    "\n",
    "The null hypothesis assumes that digital marketing has no effect in sales.  \n",
    "Null Hypothesis, H0 : µ1 = µ2  \n",
    "Sales before digital marketing = Sales after digital marketing  \n",
    "\n",
    "The alternative hypothesis assumes that digital marketing has increased the sales.  \n",
    "Alternative Hypothesis, H1: µ2 > µ1  \n",
    "Sales after digital marketing > Sales before digital marketing  \n",
    "\n",
    "The purpose of the T Test is to test if the null hypothesis can be rejected or not.  \n",
    "\n",
    "Here we can use Correlated T Test.  \n",
    "\n",
    "Correlated (or Paired) T-Test is like a comparative analysis."
   ]
  },
  {
   "cell_type": "code",
   "execution_count": 12,
   "id": "305e2a3a",
   "metadata": {},
   "outputs": [],
   "source": [
    "#Confidence Interval = 95% or 0.95"
   ]
  },
  {
   "cell_type": "code",
   "execution_count": 13,
   "id": "62574059",
   "metadata": {},
   "outputs": [],
   "source": [
    "#Rejection region: Level of Significance or alpha value = 5% or 0.05"
   ]
  },
  {
   "cell_type": "code",
   "execution_count": 14,
   "id": "3aa308e1",
   "metadata": {},
   "outputs": [
    {
     "name": "stdout",
     "output_type": "stream",
     "text": [
      "t Statistic:  12.09070525287017\n",
      "P Value:  3.168333502287889e-11\n"
     ]
    }
   ],
   "source": [
    "#1 tailed correlated t-test\n",
    "import scipy.stats as stats\n",
    "\n",
    "tscore, pval = stats.ttest_rel(data_salesafter, data_salesbefore, alternative='greater')\n",
    "\n",
    "print(\"t Statistic: \", tscore)\n",
    "\n",
    "print(\"P Value: \", pval)"
   ]
  },
  {
   "cell_type": "markdown",
   "id": "057cd2ff",
   "metadata": {},
   "source": [
    "For two tailed tests, we reject the null hypothesis when p < alpha.  \n",
    "For one tailed greater-than test, we reject the null hypothesis when p/2 < alpha and t > 0.  \n",
    "For one tailed less-than test, we reject the null hypothesis when p/2 < alpha and t < 0."
   ]
  },
  {
   "cell_type": "markdown",
   "id": "52bb9be0",
   "metadata": {},
   "source": [
    "Notes:-  \n",
    "Significance of alpha value:  \n",
    "We define a significance factor to determine whether the relation between the variables is of considerable significance. Generally a significance factor or alpha value of 0.05 is chosen. This alpha value denotes the probability of erroneously rejecting Null Hypothesis when it is true. A lower alpha value is chosen in cases where we expect more precision.  \n",
    "\n",
    "Significance of p value:  \n",
    "We depend on P-value to draw the conclusion.  \n",
    "If p value < 0.05 we reject Null Hypothesis and conclude there is significant difference between factors.  \n",
    "If the p-value for the test comes out to be strictly greater than the alpha value, then Null Hypothesis holds true."
   ]
  },
  {
   "cell_type": "code",
   "execution_count": 15,
   "id": "7155d9f8",
   "metadata": {},
   "outputs": [
    {
     "name": "stdout",
     "output_type": "stream",
     "text": [
      "dof= 42\n",
      "critical value=  1.6819523559426\n"
     ]
    }
   ],
   "source": [
    "#Degrees of freedom(DOF), Critical Value\n",
    "#Degrees of freedom are the number of independent values that a statistical analysis can estimate.\n",
    "prob = 0.95\n",
    "dof = data_salesbefore.size+data_salesafter.size-2\n",
    "print('dof=', dof)\n",
    "cvalue = stats.t.ppf(prob, dof)\n",
    "print('critical value= ', cvalue)"
   ]
  },
  {
   "cell_type": "markdown",
   "id": "92403618",
   "metadata": {},
   "source": [
    "Interpretation of Observed Statistic Value:-  \n",
    "If Statistic >= Critical Value: significant result, reject null hypothesis (H0), sales increased.  \n",
    "If Statistic < Critical Value: not significant result, fail to reject null hypothesis (H0), no effect on sales."
   ]
  },
  {
   "cell_type": "code",
   "execution_count": 16,
   "id": "69b22527",
   "metadata": {},
   "outputs": [
    {
     "name": "stdout",
     "output_type": "stream",
     "text": [
      "probability=0.950, critical value=1.682, stat=12.091\n",
      "Since critical value(=1.681952) < t-value(=12.09)  We reject the null hypothesis\n"
     ]
    }
   ],
   "source": [
    "# interpreting test-statistic (t-value)\n",
    "\n",
    "print('probability=%.3f, critical value=%.3f, stat=%.3f' % (prob, cvalue, tscore))\n",
    "\n",
    "if abs(tscore) >= cvalue:\n",
    "     print('Since critical value(=%f)'%cvalue,'<','t-value(=%.2f)'%abs(tscore), ' We reject the null hypothesis')\n",
    "else:\n",
    "     print('Since critical value(=%f)'%cvalue,'>','t-value(=%.2f)'%abs(tscore),' We do not reject the null hypothesis')"
   ]
  },
  {
   "cell_type": "code",
   "execution_count": 17,
   "id": "7c6cc5ae",
   "metadata": {},
   "outputs": [
    {
     "name": "stdout",
     "output_type": "stream",
     "text": [
      "Digital marketing has increased the sales\n"
     ]
    }
   ],
   "source": [
    "# for alpha value = 5% or 0.05\n",
    "if pval < 0.05:    \n",
    "   print(\"Digital marketing has increased the sales\")\n",
    "else:\n",
    "  print(\"Digital marketing has no effect in the sales\")"
   ]
  },
  {
   "cell_type": "markdown",
   "id": "b6f52293",
   "metadata": {},
   "source": [
    "**Conclusion:  \n",
    "Null hypothesis can be rejected since P-value of the test is less than alpha value.  \n",
    "P-value lies within the Rejection Region or Level of Significance.  \n",
    "Alternative hypothesis is accepted.  \n",
    "So it can be concluded that promotions by Digital marketing has increased the sales.**"
   ]
  },
  {
   "cell_type": "markdown",
   "id": "9a0f5624",
   "metadata": {},
   "source": [
    "### 2. The company needs to check whether there is any dependency between the features “Region” and “Manager”."
   ]
  },
  {
   "cell_type": "code",
   "execution_count": 18,
   "id": "d1cb0980",
   "metadata": {},
   "outputs": [
    {
     "data": {
      "text/html": [
       "<div>\n",
       "<style scoped>\n",
       "    .dataframe tbody tr th:only-of-type {\n",
       "        vertical-align: middle;\n",
       "    }\n",
       "\n",
       "    .dataframe tbody tr th {\n",
       "        vertical-align: top;\n",
       "    }\n",
       "\n",
       "    .dataframe thead tr th {\n",
       "        text-align: left;\n",
       "    }\n",
       "\n",
       "    .dataframe thead tr:last-of-type th {\n",
       "        text-align: right;\n",
       "    }\n",
       "</style>\n",
       "<table border=\"1\" class=\"dataframe\">\n",
       "  <thead>\n",
       "    <tr>\n",
       "      <th></th>\n",
       "      <th></th>\n",
       "      <th colspan=\"3\" halign=\"left\">Sales_before_digital_add(in $)</th>\n",
       "      <th colspan=\"3\" halign=\"left\">Sales_After_digital_add(in $)</th>\n",
       "    </tr>\n",
       "    <tr>\n",
       "      <th></th>\n",
       "      <th></th>\n",
       "      <th>count</th>\n",
       "      <th>sum</th>\n",
       "      <th>mean</th>\n",
       "      <th>count</th>\n",
       "      <th>sum</th>\n",
       "      <th>mean</th>\n",
       "    </tr>\n",
       "    <tr>\n",
       "      <th>Manager</th>\n",
       "      <th>Region</th>\n",
       "      <th></th>\n",
       "      <th></th>\n",
       "      <th></th>\n",
       "      <th></th>\n",
       "      <th></th>\n",
       "      <th></th>\n",
       "    </tr>\n",
       "  </thead>\n",
       "  <tbody>\n",
       "    <tr>\n",
       "      <th rowspan=\"3\" valign=\"top\">Manager - A</th>\n",
       "      <th>Region - A</th>\n",
       "      <td>4</td>\n",
       "      <td>594514</td>\n",
       "      <td>148628.500000</td>\n",
       "      <td>4</td>\n",
       "      <td>1030437</td>\n",
       "      <td>257609.250000</td>\n",
       "    </tr>\n",
       "    <tr>\n",
       "      <th>Region - B</th>\n",
       "      <td>4</td>\n",
       "      <td>570900</td>\n",
       "      <td>142725.000000</td>\n",
       "      <td>4</td>\n",
       "      <td>939851</td>\n",
       "      <td>234962.750000</td>\n",
       "    </tr>\n",
       "    <tr>\n",
       "      <th>Region - C</th>\n",
       "      <td>1</td>\n",
       "      <td>147463</td>\n",
       "      <td>147463.000000</td>\n",
       "      <td>1</td>\n",
       "      <td>229336</td>\n",
       "      <td>229336.000000</td>\n",
       "    </tr>\n",
       "    <tr>\n",
       "      <th rowspan=\"3\" valign=\"top\">Manager - B</th>\n",
       "      <th>Region - A</th>\n",
       "      <td>3</td>\n",
       "      <td>466851</td>\n",
       "      <td>155617.000000</td>\n",
       "      <td>3</td>\n",
       "      <td>656832</td>\n",
       "      <td>218944.000000</td>\n",
       "    </tr>\n",
       "    <tr>\n",
       "      <th>Region - B</th>\n",
       "      <td>1</td>\n",
       "      <td>152167</td>\n",
       "      <td>152167.000000</td>\n",
       "      <td>1</td>\n",
       "      <td>231808</td>\n",
       "      <td>231808.000000</td>\n",
       "    </tr>\n",
       "    <tr>\n",
       "      <th>Region - C</th>\n",
       "      <td>3</td>\n",
       "      <td>469477</td>\n",
       "      <td>156492.333333</td>\n",
       "      <td>3</td>\n",
       "      <td>643654</td>\n",
       "      <td>214551.333333</td>\n",
       "    </tr>\n",
       "    <tr>\n",
       "      <th rowspan=\"3\" valign=\"top\">Manager - C</th>\n",
       "      <th>Region - A</th>\n",
       "      <td>3</td>\n",
       "      <td>420684</td>\n",
       "      <td>140228.000000</td>\n",
       "      <td>3</td>\n",
       "      <td>701262</td>\n",
       "      <td>233754.000000</td>\n",
       "    </tr>\n",
       "    <tr>\n",
       "      <th>Region - B</th>\n",
       "      <td>2</td>\n",
       "      <td>330598</td>\n",
       "      <td>165299.000000</td>\n",
       "      <td>2</td>\n",
       "      <td>429436</td>\n",
       "      <td>214718.000000</td>\n",
       "    </tr>\n",
       "    <tr>\n",
       "      <th>Region - C</th>\n",
       "      <td>1</td>\n",
       "      <td>130625</td>\n",
       "      <td>130625.000000</td>\n",
       "      <td>1</td>\n",
       "      <td>222106</td>\n",
       "      <td>222106.000000</td>\n",
       "    </tr>\n",
       "  </tbody>\n",
       "</table>\n",
       "</div>"
      ],
      "text/plain": [
       "                       Sales_before_digital_add(in $)                         \\\n",
       "                                                count     sum           mean   \n",
       "Manager     Region                                                             \n",
       "Manager - A Region - A                              4  594514  148628.500000   \n",
       "            Region - B                              4  570900  142725.000000   \n",
       "            Region - C                              1  147463  147463.000000   \n",
       "Manager - B Region - A                              3  466851  155617.000000   \n",
       "            Region - B                              1  152167  152167.000000   \n",
       "            Region - C                              3  469477  156492.333333   \n",
       "Manager - C Region - A                              3  420684  140228.000000   \n",
       "            Region - B                              2  330598  165299.000000   \n",
       "            Region - C                              1  130625  130625.000000   \n",
       "\n",
       "                       Sales_After_digital_add(in $)                          \n",
       "                                               count      sum           mean  \n",
       "Manager     Region                                                            \n",
       "Manager - A Region - A                             4  1030437  257609.250000  \n",
       "            Region - B                             4   939851  234962.750000  \n",
       "            Region - C                             1   229336  229336.000000  \n",
       "Manager - B Region - A                             3   656832  218944.000000  \n",
       "            Region - B                             1   231808  231808.000000  \n",
       "            Region - C                             3   643654  214551.333333  \n",
       "Manager - C Region - A                             3   701262  233754.000000  \n",
       "            Region - B                             2   429436  214718.000000  \n",
       "            Region - C                             1   222106  222106.000000  "
      ]
     },
     "execution_count": 18,
     "metadata": {},
     "output_type": "execute_result"
    }
   ],
   "source": [
    "#calculating the average regional sales of each manager\n",
    "dataRM = data[['Manager', 'Region', 'Month', \"Sales_before_digital_add(in $)\",\n",
    "               \"Sales_After_digital_add(in $)\"]].groupby(['Manager', 'Region']).agg(['count', 'sum', 'mean'])\n",
    "dataRM"
   ]
  },
  {
   "cell_type": "code",
   "execution_count": 19,
   "id": "d2105df2",
   "metadata": {},
   "outputs": [
    {
     "data": {
      "image/png": "[encoded data removed]",
      "text/plain": [
       "<Figure size 432x288 with 1 Axes>"
      ]
     },
     "metadata": {
      "needs_background": "light"
     },
     "output_type": "display_data"
    }
   ],
   "source": [
    "#plotting average regional sales\n",
    "dataRM1 = data.groupby(['Manager', 'Region']).mean()\n",
    "dataRM1.plot(kind='bar')\n",
    "plt.xlabel(\"Manager & Region\")\n",
    "plt.ylabel(\"Sales Revenue\")\n",
    "plt.title(\"Sales vs Manager-Region Chart\")\n",
    "plt.xticks(rotation=90)\n",
    "plt.show()"
   ]
  },
  {
   "cell_type": "markdown",
   "id": "6936ae03",
   "metadata": {},
   "source": [
    "Comments:  \n",
    "Considering average regional sales, it can be observed from chart that there are some dependancies between region & manager.  \n",
    "It is just an inferential analysis.  \n",
    "As categorical variables are involved it can be accurately interpreted only after comprehensive parametric statistical testing.  "
   ]
  },
  {
   "cell_type": "code",
   "execution_count": 20,
   "id": "69163a19",
   "metadata": {},
   "outputs": [
    {
     "data": {
      "image/png": "[encoded data removed]",
      "text/plain": [
       "<Figure size 432x288 with 1 Axes>"
      ]
     },
     "metadata": {
      "needs_background": "light"
     },
     "output_type": "display_data"
    }
   ],
   "source": [
    "#kde plot\n",
    "dataRM1.plot.kde(color = [\"blue\", \"green\"])\n",
    "plt.title(\"Density Estimation\", fontsize = 15)\n",
    "plt.show()"
   ]
  },
  {
   "cell_type": "code",
   "execution_count": 21,
   "id": "a782fb4d",
   "metadata": {},
   "outputs": [],
   "source": [
    "#Defining a null hypothesis and an alternative hypothesis."
   ]
  },
  {
   "cell_type": "markdown",
   "id": "3bbabc45",
   "metadata": {},
   "source": [
    "Null Hypothesis, H0 :  \n",
    "There is no dependency between the features “Region” and “Manager\"  \n",
    "\n",
    "Alternate Hypothesis, H1 :  \n",
    "There is significant dependency between the features “Region” and “Manager\""
   ]
  },
  {
   "cell_type": "markdown",
   "id": "9468607a",
   "metadata": {},
   "source": [
    "Here, Region and Manager are Categorical variables. Therefore to test dependancy we use Chi Square Test.  \n",
    "\n",
    "**Pearson's Chi-Square Test of Independence is used to test if two categorical variables might be correlated or not.**"
   ]
  },
  {
   "cell_type": "markdown",
   "id": "8e12c1f2",
   "metadata": {},
   "source": [
    "Notes:-  \n",
    "Contingency Table :  \n",
    "A Contingency table (also called crosstab) is used to summarise the relationship between several categorical variables.  \n",
    "Pairs of categorical variables can be summarized using a contingency table. The chi-squared test can compare an observed contingency table to an expected table and determine if the categorical variables are independent."
   ]
  },
  {
   "cell_type": "markdown",
   "id": "639769e5",
   "metadata": {},
   "source": [
    "Using chi-square value:  \n",
    "If our calculated value of chi-square is less or equal to the tabular(also called critical) value of chi-square, then Null Hypothesis holds true."
   ]
  },
  {
   "cell_type": "markdown",
   "id": "d002d6ea",
   "metadata": {},
   "source": [
    "Interpretation of Observed Statistic Value:-  \n",
    "If Statistic >= Critical Value: significant result, reject null hypothesis (H0), dependent.  \n",
    "If Statistic < Critical Value: not significant result, fail to reject null hypothesis (H0), independent."
   ]
  },
  {
   "cell_type": "markdown",
   "id": "427ca439",
   "metadata": {},
   "source": [
    "Interpretation of p-value:-  \n",
    "If p-value <= alpha: significant result, reject null hypothesis (H0), dependent.  \n",
    "If p-value > alpha: not significant result, fail to reject null hypothesis (H0), independent."
   ]
  },
  {
   "cell_type": "code",
   "execution_count": 22,
   "id": "67089dd4",
   "metadata": {},
   "outputs": [],
   "source": [
    "#Confidence Interval = 95% or 0.95"
   ]
  },
  {
   "cell_type": "code",
   "execution_count": 23,
   "id": "12f1fc45",
   "metadata": {},
   "outputs": [],
   "source": [
    "#Rejection region: Level of Significance or alpha value = 5% or 0.05"
   ]
  },
  {
   "cell_type": "code",
   "execution_count": 24,
   "id": "a0c26b01",
   "metadata": {},
   "outputs": [
    {
     "name": "stdout",
     "output_type": "stream",
     "text": [
      "Manager     Manager - A  Manager - B  Manager - C\n",
      "Region                                           \n",
      "Region - A            4            3            3\n",
      "Region - B            4            1            2\n",
      "Region - C            1            3            1\n",
      "dof=4\n",
      "\n",
      "\n",
      "array [[4.09090909 3.18181818 2.72727273]\n",
      " [2.86363636 2.22727273 1.90909091]\n",
      " [2.04545455 1.59090909 1.36363636]]\n",
      "\n",
      "\n",
      "probability=0.950, critical=9.488, stat=3.051\n",
      "Independent (Fail to reject Null Hypothesis)\n",
      "\n",
      "\n",
      "significance=0.050, p=0.549\n",
      "Independent (Fail to reject Null Hypothesis)\n"
     ]
    }
   ],
   "source": [
    "# chi-squared test of independence with similar proportions\n",
    "from scipy.stats import chi2_contingency\n",
    "from scipy.stats import chi2\n",
    "\n",
    "# creating cross tab of two features; contingency table\n",
    "contigencytable = pd.crosstab(data['Region'], data['Manager'])\n",
    "print(contigencytable)\n",
    "\n",
    "# execute Chi-square test of independence\n",
    "stat, p, dof, expected = chi2_contingency(contigencytable)\n",
    "print('dof=%d' % dof)\n",
    "print('\\n')\n",
    "print('array', expected)\n",
    "\n",
    "#The information is returned within a tuple where the first value is the Chi-square test static \n",
    "#The second value is the p-value, and the third number is the degrees of freedom \n",
    "#An array is also returned which contains the expected cell counts\n",
    "print('\\n')\n",
    "\n",
    "# interpret test-statistic\n",
    "prob = 0.95\n",
    "critical = chi2.ppf(prob, dof)\n",
    "print('probability=%.3f, critical=%.3f, stat=%.3f' % (prob, critical, stat))\n",
    "if abs(stat) >= critical:\n",
    "    print('Dependent (Reject Null Hypothesis)')\n",
    "else:\n",
    "    print('Independent (Fail to reject Null Hypothesis)')\n",
    "print('\\n')\n",
    "\n",
    "# interpret p-value\n",
    "alpha = 1.0 - prob\n",
    "print('significance=%.3f, p=%.3f' % (alpha, p))\n",
    "if p <= alpha:\n",
    "    print('Dependent (Reject Null Hypothesis)')\n",
    "else:\n",
    "    print('Independent (Fail to reject Null Hypothesis)')"
   ]
  },
  {
   "cell_type": "code",
   "execution_count": 25,
   "id": "2e7f862a",
   "metadata": {},
   "outputs": [
    {
     "name": "stdout",
     "output_type": "stream",
     "text": [
      "There is no dependency between the features Region and Manager\n"
     ]
    }
   ],
   "source": [
    "# for alpha value = 5% or 0.05\n",
    "if p <= 0.05:    \n",
    "   print(\"There is significant dependency between the features Region and Manager\")\n",
    "else:\n",
    "  print(\"There is no dependency between the features Region and Manager\")"
   ]
  },
  {
   "cell_type": "markdown",
   "id": "fa27935e",
   "metadata": {},
   "source": [
    "**Conclusion:  \n",
    "Since p-value(0.549) is higher than alpha value (0.05), we conclude that we do not reject Null hypothesis.  \n",
    "That means there is no dependency between the features Region and Manager.**"
   ]
  },
  {
   "cell_type": "markdown",
   "id": "ff4d71f7",
   "metadata": {},
   "source": [
    "**Insights:  \n",
    "From the correlation t-test we concluded that sales has significantly increased after investing in digital marketing promotions.  \n",
    "From kde plot, it can be inferred that sales after digital marketing is evenly distributed than sales before digital marketing.**  \n",
    "\n",
    "**While considering average regional sales, it was observed from chart that there are some dependencies between region & manager; which is only an inferential analysis. After implementing comprehensive statistical testing methods on the categorical test samples it is concluded that Manager's influence on regional sales is negligible.**  \n",
    "\n",
    "**From Pearson's Chi-Square Test of Independence, it can be concluded that there is no dependency between the features Region and Manager.**"
   ]
  },
  {
   "cell_type": "code",
   "execution_count": null,
   "id": "31f9d88c",
   "metadata": {},
   "outputs": [],
   "source": []
  }
 ],
 "metadata": {
  "kernelspec": {
   "display_name": "Python 3",
   "language": "python",
   "name": "python3"
  },
  "language_info": {
   "codemirror_mode": {
    "name": "ipython",
    "version": 3
   },
   "file_extension": ".py",
   "mimetype": "text/x-python",
   "name": "python",
   "nbconvert_exporter": "python",
   "pygments_lexer": "ipython3",
   "version": "3.8.8"
  }
 },
 "nbformat": 4,
 "nbformat_minor": 5
}
