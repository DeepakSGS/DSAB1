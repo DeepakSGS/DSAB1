{
 "cells": [
  {
   "cell_type": "markdown",
   "id": "43a2ffd4",
   "metadata": {},
   "source": [
    "Case study on Cars dataset"
   ]
  },
  {
   "cell_type": "markdown",
   "id": "849b53a5",
   "metadata": {},
   "source": [
    "Do the following operations on ‘cars_data’ dataset:\n",
    "1. Read the dataset to the python environment.\n",
    "2. Check for the null values present in the dataset.\n",
    "3. Plot a bar graph of male vs female buyers participated in the sales.\n",
    "4. Find the top 5 cars based on their sales price.\n",
    "5. Find the least 5 cars based on their Resell price."
   ]
  },
  {
   "cell_type": "code",
   "execution_count": 1,
   "id": "60ae97e6",
   "metadata": {},
   "outputs": [],
   "source": [
    "#import pandas, numpy, matplotlib, seaborn\n",
    "import pandas as pd\n",
    "import numpy as np\n",
    "import matplotlib.pyplot as plt\n",
    "import seaborn as sns"
   ]
  },
  {
   "cell_type": "markdown",
   "id": "0e1f1468",
   "metadata": {},
   "source": [
    "#Read the dataset 'Cars_data' to python environment"
   ]
  },
  {
   "cell_type": "code",
   "execution_count": 2,
   "id": "9776db04",
   "metadata": {},
   "outputs": [],
   "source": [
    "df = pd.read_csv(\"cars_data.csv\")"
   ]
  },
  {
   "cell_type": "code",
   "execution_count": 3,
   "id": "1544fa39",
   "metadata": {},
   "outputs": [
    {
     "data": {
      "text/html": [
       "<div>\n",
       "<style scoped>\n",
       "    .dataframe tbody tr th:only-of-type {\n",
       "        vertical-align: middle;\n",
       "    }\n",
       "\n",
       "    .dataframe tbody tr th {\n",
       "        vertical-align: top;\n",
       "    }\n",
       "\n",
       "    .dataframe thead th {\n",
       "        text-align: right;\n",
       "    }\n",
       "</style>\n",
       "<table border=\"1\" class=\"dataframe\">\n",
       "  <thead>\n",
       "    <tr style=\"text-align: right;\">\n",
       "      <th></th>\n",
       "      <th>Make</th>\n",
       "      <th>Model</th>\n",
       "      <th>Nickname</th>\n",
       "      <th>Car Gender</th>\n",
       "      <th>Buyer Gender</th>\n",
       "      <th>Buyer Age</th>\n",
       "      <th>Buzzword</th>\n",
       "      <th>Country</th>\n",
       "      <th>City</th>\n",
       "      <th>Dealer Latitude</th>\n",
       "      <th>Dealer Longitude</th>\n",
       "      <th>Color</th>\n",
       "      <th>New Car</th>\n",
       "      <th>Purchase Date</th>\n",
       "      <th>Sale Price</th>\n",
       "      <th>Discount</th>\n",
       "      <th>Resell Price</th>\n",
       "      <th>5-yr Depreciation</th>\n",
       "      <th>Top Speed</th>\n",
       "      <th>0-60 Time</th>\n",
       "    </tr>\n",
       "  </thead>\n",
       "  <tbody>\n",
       "    <tr>\n",
       "      <th>0</th>\n",
       "      <td>Suzuki</td>\n",
       "      <td>Vitara</td>\n",
       "      <td>Philippine</td>\n",
       "      <td>Female</td>\n",
       "      <td>Female</td>\n",
       "      <td>51</td>\n",
       "      <td>User-friendly</td>\n",
       "      <td>Belgium</td>\n",
       "      <td>Antwerpen</td>\n",
       "      <td>51.247239</td>\n",
       "      <td>4.440346</td>\n",
       "      <td>Yellow</td>\n",
       "      <td>False</td>\n",
       "      <td>19/07/2009</td>\n",
       "      <td>54806.14</td>\n",
       "      <td>0.2467</td>\n",
       "      <td>33858.32</td>\n",
       "      <td>0.13</td>\n",
       "      <td>200.9</td>\n",
       "      <td>11.5</td>\n",
       "    </tr>\n",
       "    <tr>\n",
       "      <th>1</th>\n",
       "      <td>Honda</td>\n",
       "      <td>S2000</td>\n",
       "      <td>Henrik</td>\n",
       "      <td>Male</td>\n",
       "      <td>Male</td>\n",
       "      <td>30</td>\n",
       "      <td>analyzing</td>\n",
       "      <td>China</td>\n",
       "      <td>Jinhu</td>\n",
       "      <td>33.025433</td>\n",
       "      <td>119.020584</td>\n",
       "      <td>Crimson</td>\n",
       "      <td>False</td>\n",
       "      <td>26/10/2015</td>\n",
       "      <td>51826.30</td>\n",
       "      <td>0.3147</td>\n",
       "      <td>2989.28</td>\n",
       "      <td>0.02</td>\n",
       "      <td>158.5</td>\n",
       "      <td>8.8</td>\n",
       "    </tr>\n",
       "    <tr>\n",
       "      <th>2</th>\n",
       "      <td>BMW</td>\n",
       "      <td>Z4</td>\n",
       "      <td>Lebbie</td>\n",
       "      <td>Male</td>\n",
       "      <td>Female</td>\n",
       "      <td>54</td>\n",
       "      <td>software</td>\n",
       "      <td>China</td>\n",
       "      <td>Gemo</td>\n",
       "      <td>30.916207</td>\n",
       "      <td>121.677640</td>\n",
       "      <td>Khaki</td>\n",
       "      <td>False</td>\n",
       "      <td>28/03/2010</td>\n",
       "      <td>82929.14</td>\n",
       "      <td>0.5414</td>\n",
       "      <td>35049.16</td>\n",
       "      <td>0.24</td>\n",
       "      <td>149.5</td>\n",
       "      <td>14.4</td>\n",
       "    </tr>\n",
       "    <tr>\n",
       "      <th>3</th>\n",
       "      <td>Toyota</td>\n",
       "      <td>Tacoma</td>\n",
       "      <td>Jefferey</td>\n",
       "      <td>Female</td>\n",
       "      <td>Male</td>\n",
       "      <td>68</td>\n",
       "      <td>monitoring</td>\n",
       "      <td>Portugal</td>\n",
       "      <td>Queluz de Baixo</td>\n",
       "      <td>38.745168</td>\n",
       "      <td>-9.267087</td>\n",
       "      <td>Puce</td>\n",
       "      <td>False</td>\n",
       "      <td>07/05/2008</td>\n",
       "      <td>56928.66</td>\n",
       "      <td>0.0850</td>\n",
       "      <td>8236.15</td>\n",
       "      <td>0.20</td>\n",
       "      <td>153.3</td>\n",
       "      <td>11.5</td>\n",
       "    </tr>\n",
       "    <tr>\n",
       "      <th>4</th>\n",
       "      <td>Ford</td>\n",
       "      <td>Festiva</td>\n",
       "      <td>Glendon</td>\n",
       "      <td>Female</td>\n",
       "      <td>Male</td>\n",
       "      <td>70</td>\n",
       "      <td>Sharable</td>\n",
       "      <td>Latvia</td>\n",
       "      <td>Jaunpils</td>\n",
       "      <td>56.729980</td>\n",
       "      <td>23.016588</td>\n",
       "      <td>Yellow</td>\n",
       "      <td>False</td>\n",
       "      <td>01/06/2008</td>\n",
       "      <td>77201.26</td>\n",
       "      <td>0.1642</td>\n",
       "      <td>32765.76</td>\n",
       "      <td>0.18</td>\n",
       "      <td>122.0</td>\n",
       "      <td>14.9</td>\n",
       "    </tr>\n",
       "  </tbody>\n",
       "</table>\n",
       "</div>"
      ],
      "text/plain": [
       "     Make    Model    Nickname Car Gender Buyer Gender  Buyer Age  \\\n",
       "0  Suzuki   Vitara  Philippine     Female       Female         51   \n",
       "1   Honda    S2000      Henrik       Male         Male         30   \n",
       "2     BMW       Z4      Lebbie       Male       Female         54   \n",
       "3  Toyota   Tacoma    Jefferey     Female         Male         68   \n",
       "4    Ford  Festiva     Glendon     Female         Male         70   \n",
       "\n",
       "        Buzzword   Country             City  Dealer Latitude  \\\n",
       "0  User-friendly   Belgium        Antwerpen        51.247239   \n",
       "1      analyzing     China            Jinhu        33.025433   \n",
       "2       software     China             Gemo        30.916207   \n",
       "3     monitoring  Portugal  Queluz de Baixo        38.745168   \n",
       "4       Sharable    Latvia         Jaunpils        56.729980   \n",
       "\n",
       "   Dealer Longitude    Color  New Car Purchase Date  Sale Price  Discount  \\\n",
       "0          4.440346   Yellow    False    19/07/2009    54806.14    0.2467   \n",
       "1        119.020584  Crimson    False    26/10/2015    51826.30    0.3147   \n",
       "2        121.677640    Khaki    False    28/03/2010    82929.14    0.5414   \n",
       "3         -9.267087     Puce    False    07/05/2008    56928.66    0.0850   \n",
       "4         23.016588   Yellow    False    01/06/2008    77201.26    0.1642   \n",
       "\n",
       "   Resell Price  5-yr Depreciation  Top Speed  0-60 Time  \n",
       "0      33858.32               0.13      200.9       11.5  \n",
       "1       2989.28               0.02      158.5        8.8  \n",
       "2      35049.16               0.24      149.5       14.4  \n",
       "3       8236.15               0.20      153.3       11.5  \n",
       "4      32765.76               0.18      122.0       14.9  "
      ]
     },
     "execution_count": 3,
     "metadata": {},
     "output_type": "execute_result"
    }
   ],
   "source": [
    "#display top 5 rows of the dataset\n",
    "df.head()"
   ]
  },
  {
   "cell_type": "code",
   "execution_count": 4,
   "id": "e0501172",
   "metadata": {},
   "outputs": [
    {
     "name": "stdout",
     "output_type": "stream",
     "text": [
      "         Make        Model    Nickname Car Gender Buyer Gender  Buyer Age  \\\n",
      "0      Suzuki       Vitara  Philippine     Female       Female         51   \n",
      "1       Honda        S2000      Henrik       Male         Male         30   \n",
      "2         BMW           Z4      Lebbie       Male       Female         54   \n",
      "3      Toyota       Tacoma    Jefferey     Female         Male         68   \n",
      "4        Ford      Festiva     Glendon     Female         Male         70   \n",
      "...       ...          ...         ...        ...          ...        ...   \n",
      "9995    Mazda      Tribute      Cooper       Male         Male         44   \n",
      "9996      GMC  Sierra 2500         Dud       Male         Male         40   \n",
      "9997  Mercury      Mariner     Chariot       Male         Male         37   \n",
      "9998   Daewoo      Leganza       Dynah     Female       Female         21   \n",
      "9999   Toyota      Sequoia    Zedekiah     Female         Male         21   \n",
      "\n",
      "           Buzzword      Country             City  Dealer Latitude  \\\n",
      "0     User-friendly      Belgium        Antwerpen        51.247239   \n",
      "1         analyzing        China            Jinhu        33.025433   \n",
      "2          software        China             Gemo        30.916207   \n",
      "3        monitoring     Portugal  Queluz de Baixo        38.745168   \n",
      "4          Sharable       Latvia         Jaunpils        56.729980   \n",
      "...             ...          ...              ...              ...   \n",
      "9995       hardware     Pakistan  Chishtiān Mandi        29.919386   \n",
      "9996       Enhanced   Costa Rica          Ángeles        10.075000   \n",
      "9997     monitoring       Poland        Dąbrowice        52.311923   \n",
      "9998       cohesive  Philippines         Villasis        15.901640   \n",
      "9999      analyzing  Philippines            Basud        14.048167   \n",
      "\n",
      "      Dealer Longitude    Color  New Car Purchase Date  Sale Price  Discount  \\\n",
      "0             4.440346   Yellow    False    19/07/2009    54806.14    0.2467   \n",
      "1           119.020584  Crimson    False    26/10/2015    51826.30    0.3147   \n",
      "2           121.677640    Khaki    False    28/03/2010    82929.14    0.5414   \n",
      "3            -9.267087     Puce    False    07/05/2008    56928.66    0.0850   \n",
      "4            23.016588   Yellow    False    01/06/2008    77201.26    0.1642   \n",
      "...                ...      ...      ...           ...         ...       ...   \n",
      "9995         73.074787     Pink    False    05/01/2020    58580.65    0.1611   \n",
      "9996        -84.241523     Puce    False    28/12/2005    75229.74    0.2691   \n",
      "9997         19.084965     Blue    False    08/03/2013    34755.44    0.2493   \n",
      "9998        120.587828     Teal     True    21/02/2008    98725.42    0.4654   \n",
      "9999        122.955697     Pink    False    16/12/2017    96769.78    0.5446   \n",
      "\n",
      "      Resell Price  5-yr Depreciation  Top Speed  0-60 Time  \n",
      "0         33858.32               0.13      200.9       11.5  \n",
      "1          2989.28               0.02      158.5        8.8  \n",
      "2         35049.16               0.24      149.5       14.4  \n",
      "3          8236.15               0.20      153.3       11.5  \n",
      "4         32765.76               0.18      122.0       14.9  \n",
      "...            ...                ...        ...        ...  \n",
      "9995      42640.82               0.14      245.8        8.0  \n",
      "9996      21115.58               0.11      147.4       12.3  \n",
      "9997       2731.25               0.12      198.1       11.8  \n",
      "9998      18718.58               0.04      206.7       12.2  \n",
      "9999       4545.95               0.07      242.1        3.2  \n",
      "\n",
      "[10000 rows x 20 columns]\n"
     ]
    }
   ],
   "source": [
    "#print the dataset\n",
    "print(df)"
   ]
  },
  {
   "cell_type": "markdown",
   "id": "bcee5638",
   "metadata": {},
   "source": [
    "#Check for null values present in the dataset"
   ]
  },
  {
   "cell_type": "code",
   "execution_count": 5,
   "id": "fbc2678f",
   "metadata": {},
   "outputs": [
    {
     "name": "stdout",
     "output_type": "stream",
     "text": [
      "Make                 0\n",
      "Model                0\n",
      "Nickname             0\n",
      "Car Gender           0\n",
      "Buyer Gender         0\n",
      "Buyer Age            0\n",
      "Buzzword             0\n",
      "Country              0\n",
      "City                 0\n",
      "Dealer Latitude      0\n",
      "Dealer Longitude     0\n",
      "Color                0\n",
      "New Car              0\n",
      "Purchase Date        0\n",
      "Sale Price           0\n",
      "Discount             0\n",
      "Resell Price         0\n",
      "5-yr Depreciation    0\n",
      "Top Speed            0\n",
      "0-60 Time            0\n",
      "dtype: int64\n"
     ]
    }
   ],
   "source": [
    "df.isnull().sum()\n",
    "print(df.isnull().sum())"
   ]
  },
  {
   "cell_type": "code",
   "execution_count": 6,
   "id": "5a456d40",
   "metadata": {},
   "outputs": [
    {
     "data": {
      "text/plain": [
       "Index(['Make', 'Model', 'Nickname', 'Car Gender', 'Buyer Gender', 'Buyer Age',\n",
       "       'Buzzword', 'Country', 'City', 'Dealer Latitude', 'Dealer Longitude',\n",
       "       'Color', 'New Car', 'Purchase Date', 'Sale Price', 'Discount',\n",
       "       'Resell Price', '5-yr Depreciation', 'Top Speed', '0-60 Time'],\n",
       "      dtype='object')"
      ]
     },
     "execution_count": 6,
     "metadata": {},
     "output_type": "execute_result"
    }
   ],
   "source": [
    "#Columns in the dataset\n",
    "df.columns"
   ]
  },
  {
   "cell_type": "markdown",
   "id": "ea5dca21",
   "metadata": {},
   "source": [
    "#Total Male buyers participated in the sales"
   ]
  },
  {
   "cell_type": "code",
   "execution_count": 7,
   "id": "4bc7479c",
   "metadata": {},
   "outputs": [
    {
     "name": "stdout",
     "output_type": "stream",
     "text": [
      "4948\n"
     ]
    }
   ],
   "source": [
    "df1 = df.loc[df[\"Buyer Gender\"] == \"Male\"].count()\n",
    "print(df1[\"Buyer Gender\"])"
   ]
  },
  {
   "cell_type": "markdown",
   "id": "3f196189",
   "metadata": {},
   "source": [
    "#Total Female buyers participated in the sales"
   ]
  },
  {
   "cell_type": "code",
   "execution_count": 8,
   "id": "239f3bb3",
   "metadata": {},
   "outputs": [
    {
     "name": "stdout",
     "output_type": "stream",
     "text": [
      "5052\n"
     ]
    }
   ],
   "source": [
    "df2 = df.loc[df[\"Buyer Gender\"] == \"Female\"].count()\n",
    "print(df2[\"Buyer Gender\"])"
   ]
  },
  {
   "cell_type": "markdown",
   "id": "524f9639",
   "metadata": {},
   "source": [
    "#Bar graph of Male vs Female Buyers"
   ]
  },
  {
   "cell_type": "code",
   "execution_count": 9,
   "id": "d49a188e",
   "metadata": {},
   "outputs": [
    {
     "data": {
      "image/png": "[encoded data removed]",
      "text/plain": [
       "<Figure size 432x288 with 1 Axes>"
      ]
     },
     "metadata": {
      "needs_background": "light"
     },
     "output_type": "display_data"
    }
   ],
   "source": [
    "x = [\"Males\", \"Females\"]\n",
    "y = [df1[\"Buyer Gender\"],df2[\"Buyer Gender\"]]\n",
    "plt.barh(x,y, color=(\"yellow\", \"orange\"))\n",
    "plt.xlabel(\"Frequency\")\n",
    "plt.ylabel(\"Gender\", rotation = 90)\n",
    "plt.title(\"Male vs Female Buyers\", fontsize = 15)\n",
    "plt.show()"
   ]
  },
  {
   "cell_type": "code",
   "execution_count": 10,
   "id": "2e1e3c1e",
   "metadata": {},
   "outputs": [
    {
     "data": {
      "image/png": "[encoded data removed]",
      "text/plain": [
       "<Figure size 432x288 with 1 Axes>"
      ]
     },
     "metadata": {
      "needs_background": "light"
     },
     "output_type": "display_data"
    }
   ],
   "source": [
    "x = [\"Males\", \"Females\"]\n",
    "y = [df1[\"Buyer Gender\"],df2[\"Buyer Gender\"]]\n",
    "plt.ylim(4800, 5200)\n",
    "plt.bar(x,y, color=(\"yellow\", \"orange\"))\n",
    "plt.xlabel(\"Gender\")\n",
    "plt.ylabel(\"Frequency\", rotation = 90)\n",
    "plt.title(\"Male vs Female Buyers\", fontsize = 15)\n",
    "plt.show()"
   ]
  },
  {
   "cell_type": "code",
   "execution_count": 11,
   "id": "da29efdb",
   "metadata": {},
   "outputs": [
    {
     "data": {
      "image/png": "[encoded data removed]",
      "text/plain": [
       "<Figure size 432x288 with 1 Axes>"
      ]
     },
     "metadata": {
      "needs_background": "light"
     },
     "output_type": "display_data"
    }
   ],
   "source": [
    "#countplot using seaborn library\n",
    "sns.countplot(x ='Buyer Gender', data = df)\n",
    "plt.ylim(4800, 5200)\n",
    "plt.title(\"Male vs Female Buyers\", fontsize = 15)\n",
    "plt.show()"
   ]
  },
  {
   "cell_type": "markdown",
   "id": "451fcd87",
   "metadata": {},
   "source": [
    "#List of top 5 cars based on Sale Price"
   ]
  },
  {
   "cell_type": "code",
   "execution_count": 12,
   "id": "7b3a6c55",
   "metadata": {},
   "outputs": [
    {
     "data": {
      "text/plain": [
       "5984    99997.65\n",
       "1270    99991.91\n",
       "3460    99983.38\n",
       "9032    99978.17\n",
       "302     99973.44\n",
       "Name: Sale Price, dtype: float64"
      ]
     },
     "execution_count": 12,
     "metadata": {},
     "output_type": "execute_result"
    }
   ],
   "source": [
    "#Top 5 selling price\n",
    "df[\"Sale Price\"].nlargest(n=5)"
   ]
  },
  {
   "cell_type": "code",
   "execution_count": 13,
   "id": "224f4626",
   "metadata": {},
   "outputs": [
    {
     "data": {
      "text/html": [
       "<div>\n",
       "<style scoped>\n",
       "    .dataframe tbody tr th:only-of-type {\n",
       "        vertical-align: middle;\n",
       "    }\n",
       "\n",
       "    .dataframe tbody tr th {\n",
       "        vertical-align: top;\n",
       "    }\n",
       "\n",
       "    .dataframe thead th {\n",
       "        text-align: right;\n",
       "    }\n",
       "</style>\n",
       "<table border=\"1\" class=\"dataframe\">\n",
       "  <thead>\n",
       "    <tr style=\"text-align: right;\">\n",
       "      <th></th>\n",
       "      <th>Make</th>\n",
       "      <th>Model</th>\n",
       "      <th>Nickname</th>\n",
       "      <th>Car Gender</th>\n",
       "      <th>Buyer Gender</th>\n",
       "      <th>Buyer Age</th>\n",
       "      <th>Buzzword</th>\n",
       "      <th>Country</th>\n",
       "      <th>City</th>\n",
       "      <th>Dealer Latitude</th>\n",
       "      <th>Dealer Longitude</th>\n",
       "      <th>Color</th>\n",
       "      <th>New Car</th>\n",
       "      <th>Purchase Date</th>\n",
       "      <th>Sale Price</th>\n",
       "      <th>Discount</th>\n",
       "      <th>Resell Price</th>\n",
       "      <th>5-yr Depreciation</th>\n",
       "      <th>Top Speed</th>\n",
       "      <th>0-60 Time</th>\n",
       "    </tr>\n",
       "  </thead>\n",
       "  <tbody>\n",
       "    <tr>\n",
       "      <th>5984</th>\n",
       "      <td>Volkswagen</td>\n",
       "      <td>Jetta III</td>\n",
       "      <td>Rachael</td>\n",
       "      <td>Female</td>\n",
       "      <td>Female</td>\n",
       "      <td>73</td>\n",
       "      <td>core</td>\n",
       "      <td>Russia</td>\n",
       "      <td>Krasnoyarka</td>\n",
       "      <td>59.418208</td>\n",
       "      <td>60.514706</td>\n",
       "      <td>Blue</td>\n",
       "      <td>False</td>\n",
       "      <td>10/05/2014</td>\n",
       "      <td>99997.65</td>\n",
       "      <td>0.1695</td>\n",
       "      <td>31601.95</td>\n",
       "      <td>0.06</td>\n",
       "      <td>204.9</td>\n",
       "      <td>12.6</td>\n",
       "    </tr>\n",
       "    <tr>\n",
       "      <th>1270</th>\n",
       "      <td>Audi</td>\n",
       "      <td>A6</td>\n",
       "      <td>Thorn</td>\n",
       "      <td>Male</td>\n",
       "      <td>Male</td>\n",
       "      <td>75</td>\n",
       "      <td>function</td>\n",
       "      <td>Latvia</td>\n",
       "      <td>Līgatne</td>\n",
       "      <td>57.236340</td>\n",
       "      <td>25.038073</td>\n",
       "      <td>Blue</td>\n",
       "      <td>True</td>\n",
       "      <td>30/01/2017</td>\n",
       "      <td>99991.91</td>\n",
       "      <td>0.4692</td>\n",
       "      <td>34711.19</td>\n",
       "      <td>0.16</td>\n",
       "      <td>171.3</td>\n",
       "      <td>13.0</td>\n",
       "    </tr>\n",
       "    <tr>\n",
       "      <th>3460</th>\n",
       "      <td>Lexus</td>\n",
       "      <td>LX</td>\n",
       "      <td>Aldin</td>\n",
       "      <td>Female</td>\n",
       "      <td>Male</td>\n",
       "      <td>38</td>\n",
       "      <td>software</td>\n",
       "      <td>Malaysia</td>\n",
       "      <td>Pasir Mas</td>\n",
       "      <td>6.109065</td>\n",
       "      <td>102.133622</td>\n",
       "      <td>Orange</td>\n",
       "      <td>False</td>\n",
       "      <td>04/03/2018</td>\n",
       "      <td>99983.38</td>\n",
       "      <td>0.1170</td>\n",
       "      <td>21462.44</td>\n",
       "      <td>0.12</td>\n",
       "      <td>193.7</td>\n",
       "      <td>4.5</td>\n",
       "    </tr>\n",
       "    <tr>\n",
       "      <th>9032</th>\n",
       "      <td>Mazda</td>\n",
       "      <td>MX-6</td>\n",
       "      <td>Sylvester</td>\n",
       "      <td>Female</td>\n",
       "      <td>Male</td>\n",
       "      <td>26</td>\n",
       "      <td>internet solution</td>\n",
       "      <td>Russia</td>\n",
       "      <td>Krutaya Gorka</td>\n",
       "      <td>55.369917</td>\n",
       "      <td>73.222396</td>\n",
       "      <td>Pink</td>\n",
       "      <td>False</td>\n",
       "      <td>11/12/2014</td>\n",
       "      <td>99978.17</td>\n",
       "      <td>0.6021</td>\n",
       "      <td>45958.19</td>\n",
       "      <td>0.15</td>\n",
       "      <td>232.0</td>\n",
       "      <td>3.9</td>\n",
       "    </tr>\n",
       "    <tr>\n",
       "      <th>302</th>\n",
       "      <td>Lexus</td>\n",
       "      <td>ES</td>\n",
       "      <td>Brig</td>\n",
       "      <td>Female</td>\n",
       "      <td>Male</td>\n",
       "      <td>39</td>\n",
       "      <td>user-facing</td>\n",
       "      <td>Canada</td>\n",
       "      <td>Langford</td>\n",
       "      <td>48.447463</td>\n",
       "      <td>-123.495634</td>\n",
       "      <td>Maroon</td>\n",
       "      <td>False</td>\n",
       "      <td>26/07/2018</td>\n",
       "      <td>99973.44</td>\n",
       "      <td>0.6294</td>\n",
       "      <td>32521.53</td>\n",
       "      <td>0.21</td>\n",
       "      <td>228.1</td>\n",
       "      <td>4.7</td>\n",
       "    </tr>\n",
       "  </tbody>\n",
       "</table>\n",
       "</div>"
      ],
      "text/plain": [
       "            Make      Model   Nickname Car Gender Buyer Gender  Buyer Age  \\\n",
       "5984  Volkswagen  Jetta III    Rachael     Female       Female         73   \n",
       "1270        Audi         A6      Thorn       Male         Male         75   \n",
       "3460       Lexus         LX      Aldin     Female         Male         38   \n",
       "9032       Mazda       MX-6  Sylvester     Female         Male         26   \n",
       "302        Lexus         ES       Brig     Female         Male         39   \n",
       "\n",
       "               Buzzword   Country           City  Dealer Latitude  \\\n",
       "5984               core    Russia    Krasnoyarka        59.418208   \n",
       "1270           function    Latvia        Līgatne        57.236340   \n",
       "3460           software  Malaysia      Pasir Mas         6.109065   \n",
       "9032  internet solution    Russia  Krutaya Gorka        55.369917   \n",
       "302         user-facing    Canada       Langford        48.447463   \n",
       "\n",
       "      Dealer Longitude   Color  New Car Purchase Date  Sale Price  Discount  \\\n",
       "5984         60.514706    Blue    False    10/05/2014    99997.65    0.1695   \n",
       "1270         25.038073    Blue     True    30/01/2017    99991.91    0.4692   \n",
       "3460        102.133622  Orange    False    04/03/2018    99983.38    0.1170   \n",
       "9032         73.222396    Pink    False    11/12/2014    99978.17    0.6021   \n",
       "302        -123.495634  Maroon    False    26/07/2018    99973.44    0.6294   \n",
       "\n",
       "      Resell Price  5-yr Depreciation  Top Speed  0-60 Time  \n",
       "5984      31601.95               0.06      204.9       12.6  \n",
       "1270      34711.19               0.16      171.3       13.0  \n",
       "3460      21462.44               0.12      193.7        4.5  \n",
       "9032      45958.19               0.15      232.0        3.9  \n",
       "302       32521.53               0.21      228.1        4.7  "
      ]
     },
     "execution_count": 13,
     "metadata": {},
     "output_type": "execute_result"
    }
   ],
   "source": [
    "df.nlargest(5, [\"Sale Price\"])"
   ]
  },
  {
   "cell_type": "markdown",
   "id": "e50336f7",
   "metadata": {},
   "source": [
    "#List of least 5 resale price of cars"
   ]
  },
  {
   "cell_type": "code",
   "execution_count": 14,
   "id": "8945b554",
   "metadata": {},
   "outputs": [
    {
     "data": {
      "text/plain": [
       "2446    2000.84\n",
       "4933    2005.44\n",
       "566     2014.09\n",
       "2538    2017.24\n",
       "5869    2017.83\n",
       "Name: Resell Price, dtype: float64"
      ]
     },
     "execution_count": 14,
     "metadata": {},
     "output_type": "execute_result"
    }
   ],
   "source": [
    "#Least 5 resale price\n",
    "df[\"Resell Price\"].nsmallest(n=5)"
   ]
  },
  {
   "cell_type": "code",
   "execution_count": 15,
   "id": "ef43de03",
   "metadata": {},
   "outputs": [
    {
     "data": {
      "text/html": [
       "<div>\n",
       "<style scoped>\n",
       "    .dataframe tbody tr th:only-of-type {\n",
       "        vertical-align: middle;\n",
       "    }\n",
       "\n",
       "    .dataframe tbody tr th {\n",
       "        vertical-align: top;\n",
       "    }\n",
       "\n",
       "    .dataframe thead th {\n",
       "        text-align: right;\n",
       "    }\n",
       "</style>\n",
       "<table border=\"1\" class=\"dataframe\">\n",
       "  <thead>\n",
       "    <tr style=\"text-align: right;\">\n",
       "      <th></th>\n",
       "      <th>Make</th>\n",
       "      <th>Model</th>\n",
       "      <th>Nickname</th>\n",
       "      <th>Car Gender</th>\n",
       "      <th>Buyer Gender</th>\n",
       "      <th>Buyer Age</th>\n",
       "      <th>Buzzword</th>\n",
       "      <th>Country</th>\n",
       "      <th>City</th>\n",
       "      <th>Dealer Latitude</th>\n",
       "      <th>Dealer Longitude</th>\n",
       "      <th>Color</th>\n",
       "      <th>New Car</th>\n",
       "      <th>Purchase Date</th>\n",
       "      <th>Sale Price</th>\n",
       "      <th>Discount</th>\n",
       "      <th>Resell Price</th>\n",
       "      <th>5-yr Depreciation</th>\n",
       "      <th>Top Speed</th>\n",
       "      <th>0-60 Time</th>\n",
       "    </tr>\n",
       "  </thead>\n",
       "  <tbody>\n",
       "    <tr>\n",
       "      <th>2446</th>\n",
       "      <td>Chevrolet</td>\n",
       "      <td>1500</td>\n",
       "      <td>Corenda</td>\n",
       "      <td>Male</td>\n",
       "      <td>Female</td>\n",
       "      <td>25</td>\n",
       "      <td>collaboration</td>\n",
       "      <td>Philippines</td>\n",
       "      <td>Tubigan</td>\n",
       "      <td>8.490877</td>\n",
       "      <td>124.345771</td>\n",
       "      <td>Khaki</td>\n",
       "      <td>False</td>\n",
       "      <td>20/03/2002</td>\n",
       "      <td>49909.44</td>\n",
       "      <td>0.4480</td>\n",
       "      <td>2000.84</td>\n",
       "      <td>0.25</td>\n",
       "      <td>239.6</td>\n",
       "      <td>11.2</td>\n",
       "    </tr>\n",
       "    <tr>\n",
       "      <th>4933</th>\n",
       "      <td>GMC</td>\n",
       "      <td>Savana 1500</td>\n",
       "      <td>Lark</td>\n",
       "      <td>Female</td>\n",
       "      <td>Female</td>\n",
       "      <td>34</td>\n",
       "      <td>interactive</td>\n",
       "      <td>Poland</td>\n",
       "      <td>Śródmieście</td>\n",
       "      <td>53.838651</td>\n",
       "      <td>22.988241</td>\n",
       "      <td>Blue</td>\n",
       "      <td>False</td>\n",
       "      <td>15/04/2010</td>\n",
       "      <td>80084.82</td>\n",
       "      <td>0.2334</td>\n",
       "      <td>2005.44</td>\n",
       "      <td>0.01</td>\n",
       "      <td>158.7</td>\n",
       "      <td>9.0</td>\n",
       "    </tr>\n",
       "    <tr>\n",
       "      <th>566</th>\n",
       "      <td>Jaguar</td>\n",
       "      <td>XF</td>\n",
       "      <td>Payton</td>\n",
       "      <td>Female</td>\n",
       "      <td>Male</td>\n",
       "      <td>64</td>\n",
       "      <td>Visionary</td>\n",
       "      <td>Nigeria</td>\n",
       "      <td>Ikot-Ekpene</td>\n",
       "      <td>5.174447</td>\n",
       "      <td>7.714515</td>\n",
       "      <td>Red</td>\n",
       "      <td>True</td>\n",
       "      <td>26/01/2016</td>\n",
       "      <td>24124.99</td>\n",
       "      <td>0.5328</td>\n",
       "      <td>2014.09</td>\n",
       "      <td>0.19</td>\n",
       "      <td>249.3</td>\n",
       "      <td>6.9</td>\n",
       "    </tr>\n",
       "    <tr>\n",
       "      <th>2538</th>\n",
       "      <td>Mitsubishi</td>\n",
       "      <td>3000GT</td>\n",
       "      <td>Thia</td>\n",
       "      <td>Female</td>\n",
       "      <td>Female</td>\n",
       "      <td>25</td>\n",
       "      <td>well-modulated</td>\n",
       "      <td>China</td>\n",
       "      <td>Yanweigang</td>\n",
       "      <td>34.509325</td>\n",
       "      <td>119.751715</td>\n",
       "      <td>Goldenrod</td>\n",
       "      <td>True</td>\n",
       "      <td>13/02/2011</td>\n",
       "      <td>88195.95</td>\n",
       "      <td>0.0391</td>\n",
       "      <td>2017.24</td>\n",
       "      <td>0.14</td>\n",
       "      <td>222.0</td>\n",
       "      <td>10.3</td>\n",
       "    </tr>\n",
       "    <tr>\n",
       "      <th>5869</th>\n",
       "      <td>Infiniti</td>\n",
       "      <td>G37</td>\n",
       "      <td>Sonny</td>\n",
       "      <td>Male</td>\n",
       "      <td>Male</td>\n",
       "      <td>20</td>\n",
       "      <td>optimizing</td>\n",
       "      <td>France</td>\n",
       "      <td>Clermont-Ferrand</td>\n",
       "      <td>45.786764</td>\n",
       "      <td>3.160264</td>\n",
       "      <td>Indigo</td>\n",
       "      <td>False</td>\n",
       "      <td>24/11/2002</td>\n",
       "      <td>77791.65</td>\n",
       "      <td>0.5691</td>\n",
       "      <td>2017.83</td>\n",
       "      <td>0.04</td>\n",
       "      <td>131.6</td>\n",
       "      <td>12.3</td>\n",
       "    </tr>\n",
       "  </tbody>\n",
       "</table>\n",
       "</div>"
      ],
      "text/plain": [
       "            Make        Model Nickname Car Gender Buyer Gender  Buyer Age  \\\n",
       "2446   Chevrolet         1500  Corenda       Male       Female         25   \n",
       "4933         GMC  Savana 1500     Lark     Female       Female         34   \n",
       "566       Jaguar           XF   Payton     Female         Male         64   \n",
       "2538  Mitsubishi       3000GT     Thia     Female       Female         25   \n",
       "5869    Infiniti          G37    Sonny       Male         Male         20   \n",
       "\n",
       "            Buzzword      Country              City  Dealer Latitude  \\\n",
       "2446   collaboration  Philippines           Tubigan         8.490877   \n",
       "4933     interactive       Poland       Śródmieście        53.838651   \n",
       "566        Visionary      Nigeria       Ikot-Ekpene         5.174447   \n",
       "2538  well-modulated        China        Yanweigang        34.509325   \n",
       "5869      optimizing       France  Clermont-Ferrand        45.786764   \n",
       "\n",
       "      Dealer Longitude      Color  New Car Purchase Date  Sale Price  \\\n",
       "2446        124.345771      Khaki    False    20/03/2002    49909.44   \n",
       "4933         22.988241       Blue    False    15/04/2010    80084.82   \n",
       "566           7.714515        Red     True    26/01/2016    24124.99   \n",
       "2538        119.751715  Goldenrod     True    13/02/2011    88195.95   \n",
       "5869          3.160264     Indigo    False    24/11/2002    77791.65   \n",
       "\n",
       "      Discount  Resell Price  5-yr Depreciation  Top Speed  0-60 Time  \n",
       "2446    0.4480       2000.84               0.25      239.6       11.2  \n",
       "4933    0.2334       2005.44               0.01      158.7        9.0  \n",
       "566     0.5328       2014.09               0.19      249.3        6.9  \n",
       "2538    0.0391       2017.24               0.14      222.0       10.3  \n",
       "5869    0.5691       2017.83               0.04      131.6       12.3  "
      ]
     },
     "execution_count": 15,
     "metadata": {},
     "output_type": "execute_result"
    }
   ],
   "source": [
    "df.nsmallest(5,\"Resell Price\")"
   ]
  },
  {
   "cell_type": "code",
   "execution_count": null,
   "id": "13f57e3f",
   "metadata": {},
   "outputs": [],
   "source": []
  }
 ],
 "metadata": {
  "kernelspec": {
   "display_name": "Python 3",
   "language": "python",
   "name": "python3"
  },
  "language_info": {
   "codemirror_mode": {
    "name": "ipython",
    "version": 3
   },
   "file_extension": ".py",
   "mimetype": "text/x-python",
   "name": "python",
   "nbconvert_exporter": "python",
   "pygments_lexer": "ipython3",
   "version": "3.8.8"
  }
 },
 "nbformat": 4,
 "nbformat_minor": 5
}
